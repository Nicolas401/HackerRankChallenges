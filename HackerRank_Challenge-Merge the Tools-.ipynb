{
 "cells": [
  {
   "cell_type": "code",
   "execution_count": 42,
   "metadata": {},
   "outputs": [
    {
     "data": {
      "text/html": [
       "<a href=\"https://www.hackerrank.com/challenges/merge-the-tools/problem\">text</a>"
      ],
      "text/plain": [
       "<IPython.core.display.HTML object>"
      ]
     },
     "metadata": {},
     "output_type": "display_data"
    }
   ],
   "source": [
    "from IPython.core.display import display, HTML\n",
    "display(HTML(\"\"\"<a href=\"https://www.hackerrank.com/challenges/merge-the-tools/problem\">text</a>\"\"\"))"
   ]
  },
  {
   "cell_type": "code",
   "execution_count": 40,
   "metadata": {},
   "outputs": [],
   "source": [
    "def merge_the_tools(string, k):\n",
    "    string = list(string)   \n",
    "    n = int(k)\n",
    "    b = []\n",
    "    for i in range(0,len(string), n):\n",
    "        a = string[i:(i+n)]\n",
    "        b.append(a)\n",
    "    for e in b:\n",
    "        e = list(dict.fromkeys(e))\n",
    "        s = \"\"\n",
    "        e = s.join(e)        \n",
    "        print (e)\n",
    "    \n",
    "    \n",
    "    \n"
   ]
  },
  {
   "cell_type": "code",
   "execution_count": 41,
   "metadata": {},
   "outputs": [
    {
     "name": "stdout",
     "output_type": "stream",
     "text": [
      "ZNKXE\n",
      "MAFI\n",
      "CIDJS\n",
      "WRDS\n"
     ]
    }
   ],
   "source": [
    "merge_the_tools(\"ZNKXEMAAFICIDJSWRDSD\",5)"
   ]
  },
  {
   "cell_type": "code",
   "execution_count": null,
   "metadata": {},
   "outputs": [],
   "source": []
  }
 ],
 "metadata": {
  "kernelspec": {
   "display_name": "Python 3",
   "language": "python",
   "name": "python3"
  },
  "language_info": {
   "codemirror_mode": {
    "name": "ipython",
    "version": 3
   },
   "file_extension": ".py",
   "mimetype": "text/x-python",
   "name": "python",
   "nbconvert_exporter": "python",
   "pygments_lexer": "ipython3",
   "version": "3.8.3"
  }
 },
 "nbformat": 4,
 "nbformat_minor": 4
}
